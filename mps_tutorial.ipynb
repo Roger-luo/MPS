{
 "cells": [
  {
   "cell_type": "markdown",
   "metadata": {},
   "source": [
    "# Tutorial on Matrix Product States for Generative Learning\n",
    "[Pan Zhang](http://lib.itp.ac.cn/html/panzhang/)  \n",
    "Institute of Theoretical Physics, Chinese Academy of Sciences  \n",
    "Reference: Z. Han, J. Wang, H. Fan, L. Wang and P. Zhang, [arXiv:1709.01662](https://arxiv.org/abs/1709.01662)   (to appear in *Phys. Rev. X* )  \n",
    "Date: 06.11.2018\n",
    "\n",
    "_Abstract_:  \n",
    "Generative modeling is an important task in machine learning and artificial intelligence. It asks to learn joint probability distribution from training data and generates samples according to it. Many models have been proposed for generative modeling. In this tutorial, we introuduce a new model that is inspired by probabilistic interpretation of quantum physics, which we call _Born Machine_. In particular we introduce a generative model using matrix product states, which is a tensor network originally proposed for describing (particularly one-dimensional) entangled quantum states. The model enjoys efficient learning by utilizing the density matrix renormalization group method, and offers an efficient direct sampling for generative tasks. \n",
    "\n",
    "The tutorial contains three parts: \n",
    "1. An introducion to tensor networks and matrix product states (tensor train format).\n",
    "2. An Introducion to generative modeling, and how to do this using matrix product states.\n",
    "3. In the last part I will give simple python code for training a MPS."
   ]
  },
  {
   "cell_type": "markdown",
   "metadata": {},
   "source": [
    "## 1.   An mini introduction to tensor networks and matrix product states\n",
    "### 1.1 Data and tensors\n",
    "<img src=\"tensor.png\", width=150>\n",
    "* Data can be expressed (or mapped to) as a vector in a Hilbert space $\\mathcal {H}$ of dimension $n$. Different mappings result to different spaces.\n",
    "* Linear opearations in the space $\\mathcal{H}$ can be expressed by an operator. Linear operators in ab high-dimensional space correpond to non-linear operators in a low-dimensional space: Kernel methods, representer theorem.\n",
    "* In practice, we use **tensors** (multi-way arrays) to represent both operators and vectors.\n",
    "* **Curse of dimensionality** $\\Longleftrightarrow$ A large effective dimension $\\Longleftrightarrow$ Tensors contain too many elements\n",
    "* Low-dimensional approximation to a tensor $\\Longleftrightarrow$ Compression of the Hilbert space $\\Longleftrightarrow$ **Tensor networks**\n",
    "\n",
    "### 1.2  Applications of tensor networks\n",
    "* Tensor networks and graphical models: tensor contractions correpond to summation (or integration) of hidden (i.e. latent) variables\n",
    "* In Physics, tensor networks are used for\n",
    "  * expressing a wave function, by contracting virtual indices.\n",
    "  * expressing the partition function of a classic system, by contracting all indices.\n",
    "* In Applied Mathematics, tensor networks are used for \n",
    "  * fitting a function or another tensor\n",
    "  * Data compression\n",
    "* In Machine Learning (new), tensor networks are used for\n",
    "  * predicting unknown elements of a tensor using known its known elements.\n",
    "  * As a classifier\n",
    "  * Generative model via Born's rule (the topic of this tutorial)\n",
    "  \n",
    "  A biased conclusion: **Optimization** in physics, **Fitting** in applied mathematics, and **Generalization** in machine learning.\n",
    "\n",
    "### 1.3  Tensor Networks (Tensor decompositions)\n",
    "#### 1.3.1 Tensor diagrams\n",
    "<img src=\"tensor_diagram.png\",width=\"700px\" />\n",
    "\n",
    "#### 1.3.2 Rank-1 tensors: product states\n",
    "* The simplest tensor network: rank-one tensor, or factorized state, or factorized pure state. The number of elemens is proportional to the number of mode. The different modes are _independent_.\n",
    "  * A qubit has two eigen states:\n",
    "    * The first eigen state (analogous to pixel _black_) is expressed as    $| {\\uparrow   } \\rangle =|0\\rangle=\\left(\\begin{matrix}1\\\\0\\end{matrix}\\right)$, \n",
    "    * The second eigen state (analogous to pixel _white_) is expressed as $|{\\downarrow }\\rangle=|1\\rangle=\\left(\\begin{matrix}0\\\\1\\end{matrix}\\right)$，\n",
    "    * A pixel with gray level $0.8$ can be expressed as $|\\Psi\\rangle=\\sqrt{0.8}|{\\uparrow }\\rangle+\\sqrt{0.2}|{\\downarrow }\\rangle=\\left(\\begin{matrix}\\sqrt{0.8}\\\\\\sqrt{0.2}\\end{matrix}\\right)$\n",
    "* Product of two qubits: $|\\Psi\\rangle =|{\\uparrow }\\rangle|{\\downarrow }\\rangle=\\left(\\begin{matrix}1\\\\0\\end{matrix}\\right)\\otimes \\left(\\begin{matrix}0\\\\1\\end{matrix}\\right)=\\left(\\begin{matrix}0\\\\1\\\\0\\\\0\\end{matrix}\\right)=\\left(\\begin{matrix}0&0\\\\1&0\\end{matrix}\\right)$  <img src=\"two_qubits.png\",width=\"120px\" />\n",
    "* Product of two qubits: $|\\Psi\\rangle =|{\\uparrow }\\rangle\\left(\\frac{1}{\\sqrt{2}}|{\\uparrow }\\rangle+\\frac{1}{\\sqrt{2}}|{\\downarrow }\\rangle\\right)$\n",
    "* Rank-one tensor can be used to fit any tensor i.e. extracting _key_ information of the tensor.  However the error could be very large, as the number of parameters in the rank-one tensor is very limited, hence rank-one tensor has very _limited representation power_. Consider a general system with $n$ qubits, it has $2^{n}-1$ free parameters, its rank-one fitting contains only $2n$ free parameters.\n",
    "<img src=\"rank_one.png\",width=\"550px\" />\n",
    "* Generalization of rank-one tensor: $n$ denotes number of modes, $d$ denotes local dimension, and $r$ denotes rank\n",
    "  * CP decomposition，Canonical rank, number of parameters $ndr$\n",
    "  * Tucker decomposition, number of parameters $ndr+r^n$\n",
    "  * Tensor product states, also knon as _Tensor Train_, number of parameters $ndr^2$\n",
    "\n",
    "#### 1.3.3 Tensors with rank $> 1$: entangled states\n",
    "* Non-factorized pure states:\n",
    "  * entanglement state of two qubits:   $\\frac{1}{\\sqrt{2}}|{\\uparrow }\\rangle|{\\downarrow }\\rangle-\\frac{1}{\\sqrt{2}}|{\\downarrow }\\rangle|{\\uparrow }\\rangle $, it can not be written as product state in any basis. The entanglements come from (anti) correlations.\n",
    "  * EPR pair:    $\\frac{1}{\\sqrt{2}}|{\\uparrow }\\rangle|{\\uparrow }\\rangle+\\frac{1}{\\sqrt{2}}|{\\downarrow }\\rangle|{\\downarrow }\\rangle $, what is its rank?\n",
    "  * $|\\textrm{GHZ}\\rangle=\\frac{1}{\\sqrt{2}}\\left( |{\\uparrow }\\rangle^{\\otimes n}+ | {\\downarrow }\\rangle^{\\otimes n}\\right)$\n",
    "  \n",
    "* Rank and engtanglement:\n",
    " * Rank-one $\\Longleftrightarrow$ no entanglments\n",
    " * Larger rank, more enganglements. Quantitatively characterized by _entanglement entropy_.\n",
    " * Entanglments mean that some information of the system is shared by two qubits. Looking at one isolated qubit looses information!\n",
    " * Unfold a tensor into a <math>2\\times 2</math>matrix, rank is the number of non-zero singular values of the matrix. It is also equivalent to the number of non-zero eigenvalues of the _reduced density matrix_.\n",
    " * Why SVD? Because SVD = Schmidt decomposition, a natural orthogonal bisection method!\n",
    " * How to determine whether there are engantlements between two sub-systems of a system with multiple (say $7$) qubits?\n",
    "   * The same principle: unfoled the size-$2^7$ tensor to a matrix of size $2^3\\times 2^4$, then look at its rank.\n",
    "   * Squared singular values of this matrix ＝eigenvalues of the reduced density matrix.\n",
    "   * Recall the definition of singular values: it is actually equivalent to find eigenvalues of the related covariance matrix.\n",
    "   * There are many methods for unfolding this size-$2^7$ tesor, each of which corresponds to different _permute_$\\to$_reshape_ operations. If we can do this for any tensor (with unlimited memory and computational power), it gives exact estimate of entaglement entropy, as well as the bond dimension of DMRG.\n",
    "   * A quick test: is $|\\Psi\\rangle=\\frac{1}{ {2}}|{\\uparrow }\\rangle|{\\uparrow }\\rangle+\\frac{1}{ {2}}|{\\downarrow }\\rangle|{\\downarrow }\\rangle+\\frac{1}{ {2}}|{\\uparrow }\\rangle|{\\downarrow }\\rangle+\\frac{1}{ {2}}|{\\downarrow }\\rangle|{\\uparrow }\\rangle$ entangled?\n",
    "\n",
    "* Entanglment entropy\n",
    "  * The entanglement entropy defined on eigenvalues of the reduced density matrix.\n",
    "  * The density matrix $\\rho=|\\Psi\\rangle\\langle\\Psi|$ of pure state $\\Psi$ is rank-1.\n",
    "  * Whether the reduced density matrix $\\rho_A=\\textrm{Tr}_B|\\Psi\\rangle\\langle\\Psi|$ has rank larger than $1$ depends on whether sub-system A is entangled with sub system B.\n",
    "  * $\\psi_{AB}$ is a matrix obtained by unfolding tensor $\\Psi$, and $\\rho_A=\\psi_{AB}\\psi_{AB}^\\dagger$. Thus rank of $\\rho_A$ equals $\\rho_B$, which is also identical to rank of $\\psi_{AB}$.\n",
    "  * Eigenvalues of $\\rho_A$ are coinside with eigenvalues of $\\rho_B$, which are identical to squared singular values of $\\psi_{AB}$.\n",
    "  * Entanglement entropy is defined as $S(\\rho_A)=S(U\\rho_A U^\\dagger)=S(P(\\{\\lambda_i\\}))=\\sum_i\\lambda_i\\log(\\lambda_i)$, where U is a (column-orthogonal) unitary matrix, $P(\\{\\lambda_i)\\}$ denotes distribution of eigenvalues of the reduced density matrix."
   ]
  },
  {
   "cell_type": "markdown",
   "metadata": {},
   "source": [
    "## 2.   An introduction to generative modeling using matrix product states"
   ]
  },
  {
   "cell_type": "markdown",
   "metadata": {},
   "source": [
    "## 3. A simple implementation of MPS Born Machine"
   ]
  },
  {
   "cell_type": "code",
   "execution_count": 20,
   "metadata": {
    "collapsed": true
   },
   "outputs": [],
   "source": [
    "import sys\n",
    "import numpy as np\n",
    "import torch\n",
    "import math\n",
    "%matplotlib inline\n",
    "import matplotlib.pyplot as plt\n",
    "\n",
    "torch.manual_seed(1) # Fix seed of the random number generators\n",
    "np.random.seed(1)"
   ]
  },
  {
   "cell_type": "markdown",
   "metadata": {},
   "source": [
    "The function below is used to plot mnist images"
   ]
  },
  {
   "cell_type": "code",
   "execution_count": 21,
   "metadata": {
    "collapsed": true
   },
   "outputs": [],
   "source": [
    "def show_imgs(imgs,l1=4,l2=5,s1=6,s2=6):\n",
    "    \"\"\"    Plot images    \"\"\"\n",
    "    plt.rcParams['figure.figsize']=(s1,s2)\n",
    "    imgs=imgs.reshape([-1,28,28])\n",
    "    g, ax = plt.subplots(l1,l2)\n",
    "    for i in range(l1):\n",
    "        for j in range(l2):\n",
    "            a=i*l1+j\n",
    "            if(a>=imgs.shape[0]):\n",
    "                break\n",
    "            ax[i][j].imshow(imgs[a,:,:],cmap='summer')\n",
    "            ax[i][j].set_xticks([])\n",
    "            ax[i][j].set_yticks([])\n",
    "    plt.show()"
   ]
  },
  {
   "cell_type": "markdown",
   "metadata": {},
   "source": [
    "### Data loading\n",
    "$100$ MNIST images have been stored as \"mnist_100_28x28_p0.5.npy\".  \n",
    "Each image contains $n=28\\times 28=784$ pixels, each of which takes value $0$ or $1$.  \n",
    "In our settings, each image is viewed as a product state in the Hilbert space of  dimension $2^n$."
   ]
  },
  {
   "cell_type": "code",
   "execution_count": 23,
   "metadata": {
    "scrolled": true
   },
   "outputs": [
    {
     "data": {
      "image/png": "[encoded data removed]",
      "text/plain": [
       "<matplotlib.figure.Figure at 0x111fd9860>"
      ]
     },
     "metadata": {},
     "output_type": "display_data"
    }
   ],
   "source": [
    "n=784 # number of qubits\n",
    "m=20 # m images\n",
    "data=np.load(\"mnist_100_28x28_p0.5.npy\")\n",
    "data=data[:m,:,:]\n",
    "data=torch.LongTensor(data)\n",
    "data=data.view(-1,784) # m images, each of which is reshaped into a vector of length 784\n",
    "show_imgs(data,2,10,10,2)"
   ]
  },
  {
   "cell_type": "markdown",
   "metadata": {},
   "source": [
    "### MPS initialization\n",
    "Define the mps, which is a list of 3-way tensors containing random values \n",
    "<img src=\"mps.png\" width=\"350px\"/>"
   ]
  },
  {
   "cell_type": "code",
   "execution_count": 24,
   "metadata": {
    "collapsed": true
   },
   "outputs": [],
   "source": [
    "Dmax=30 # maximum bond dimension\n",
    "bond_dims=[Dmax for i in range(n-1)]+[1]\n",
    "tensors= [ torch.randn(bond_dims[i-1],2,bond_dims[i]) for i in range(n)]"
   ]
  },
  {
   "cell_type": "markdown",
   "metadata": {},
   "source": [
    "Now check the bond dimensions and tensors"
   ]
  },
  {
   "cell_type": "code",
   "execution_count": 25,
   "metadata": {
    "scrolled": true
   },
   "outputs": [
    {
     "name": "stdout",
     "output_type": "stream",
     "text": [
      "There are len(tensors) tensors\n",
      "[30, 30, 30, 30, 30, 30, 30, 30, 30, 30, 30, 30, 30, 30, 30, 30, 30, 30, 30, 30, 30, 30, 30, 30, 30, 30, 30, 30, 30, 30, 30, 30, 30, 30, 30, 30, 30, 30, 30, 30, 30, 30, 30, 30, 30, 30, 30, 30, 30, 30, 30, 30, 30, 30, 30, 30, 30, 30, 30, 30, 30, 30, 30, 30, 30, 30, 30, 30, 30, 30, 30, 30, 30, 30, 30, 30, 30, 30, 30, 30, 30, 30, 30, 30, 30, 30, 30, 30, 30, 30, 30, 30, 30, 30, 30, 30, 30, 30, 30, 30, 30, 30, 30, 30, 30, 30, 30, 30, 30, 30, 30, 30, 30, 30, 30, 30, 30, 30, 30, 30, 30, 30, 30, 30, 30, 30, 30, 30, 30, 30, 30, 30, 30, 30, 30, 30, 30, 30, 30, 30, 30, 30, 30, 30, 30, 30, 30, 30, 30, 30, 30, 30, 30, 30, 30, 30, 30, 30, 30, 30, 30, 30, 30, 30, 30, 30, 30, 30, 30, 30, 30, 30, 30, 30, 30, 30, 30, 30, 30, 30, 30, 30, 30, 30, 30, 30, 30, 30, 30, 30, 30, 30, 30, 30, 30, 30, 30, 30, 30, 30, 30, 30, 30, 30, 30, 30, 30, 30, 30, 30, 30, 30, 30, 30, 30, 30, 30, 30, 30, 30, 30, 30, 30, 30, 30, 30, 30, 30, 30, 30, 30, 30, 30, 30, 30, 30, 30, 30, 30, 30, 30, 30, 30, 30, 30, 30, 30, 30, 30, 30, 30, 30, 30, 30, 30, 30, 30, 30, 30, 30, 30, 30, 30, 30, 30, 30, 30, 30, 30, 30, 30, 30, 30, 30, 30, 30, 30, 30, 30, 30, 30, 30, 30, 30, 30, 30, 30, 30, 30, 30, 30, 30, 30, 30, 30, 30, 30, 30, 30, 30, 30, 30, 30, 30, 30, 30, 30, 30, 30, 30, 30, 30, 30, 30, 30, 30, 30, 30, 30, 30, 30, 30, 30, 30, 30, 30, 30, 30, 30, 30, 30, 30, 30, 30, 30, 30, 30, 30, 30, 30, 30, 30, 30, 30, 30, 30, 30, 30, 30, 30, 30, 30, 30, 30, 30, 30, 30, 30, 30, 30, 30, 30, 30, 30, 30, 30, 30, 30, 30, 30, 30, 30, 30, 30, 30, 30, 30, 30, 30, 30, 30, 30, 30, 30, 30, 30, 30, 30, 30, 30, 30, 30, 30, 30, 30, 30, 30, 30, 30, 30, 30, 30, 30, 30, 30, 30, 30, 30, 30, 30, 30, 30, 30, 30, 30, 30, 30, 30, 30, 30, 30, 30, 30, 30, 30, 30, 30, 30, 30, 30, 30, 30, 30, 30, 30, 30, 30, 30, 30, 30, 30, 30, 30, 30, 30, 30, 30, 30, 30, 30, 30, 30, 30, 30, 30, 30, 30, 30, 30, 30, 30, 30, 30, 30, 30, 30, 30, 30, 30, 30, 30, 30, 30, 30, 30, 30, 30, 30, 30, 30, 30, 30, 30, 30, 30, 30, 30, 30, 30, 30, 30, 30, 30, 30, 30, 30, 30, 30, 30, 30, 30, 30, 30, 30, 30, 30, 30, 30, 30, 30, 30, 30, 30, 30, 30, 30, 30, 30, 30, 30, 30, 30, 30, 30, 30, 30, 30, 30, 30, 30, 30, 30, 30, 30, 30, 30, 30, 30, 30, 30, 30, 30, 30, 30, 30, 30, 30, 30, 30, 30, 30, 30, 30, 30, 30, 30, 30, 30, 30, 30, 30, 30, 30, 30, 30, 30, 30, 30, 30, 30, 30, 30, 30, 30, 30, 30, 30, 30, 30, 30, 30, 30, 30, 30, 30, 30, 30, 30, 30, 30, 30, 30, 30, 30, 30, 30, 30, 30, 30, 30, 30, 30, 30, 30, 30, 30, 30, 30, 30, 30, 30, 30, 30, 30, 30, 30, 30, 30, 30, 30, 30, 30, 30, 30, 30, 30, 30, 30, 30, 30, 30, 30, 30, 30, 30, 30, 30, 30, 30, 30, 30, 30, 30, 30, 30, 30, 30, 30, 30, 30, 30, 30, 30, 30, 30, 30, 30, 30, 30, 30, 30, 30, 30, 30, 30, 30, 30, 30, 30, 30, 30, 30, 30, 30, 30, 30, 30, 30, 30, 30, 30, 30, 30, 30, 30, 30, 30, 30, 30, 30, 30, 30, 30, 30, 30, 30, 30, 30, 30, 30, 30, 30, 30, 30, 30, 30, 30, 30, 30, 30, 30, 30, 30, 30, 30, 30, 30, 30, 30, 30, 30, 30, 30, 30, 30, 30, 30, 30, 30, 30, 30, 30, 30, 30, 30, 30, 30, 30, 30, 30, 30, 30, 30, 30, 30, 30, 30, 30, 30, 30, 30, 30, 30, 30, 30, 30, 30, 30, 30, 30, 30, 30, 30, 30, 30, 30, 30, 30, 30, 30, 30, 30, 30, 30, 30, 30, 30, 30, 30, 30, 30, 30, 30, 1]\n",
      "torch.Size([30, 2, 30])\n"
     ]
    }
   ],
   "source": [
    "print(\"There are len(tensors) tensors\")\n",
    "print(bond_dims)\n",
    "print(tensors[5].shape)"
   ]
  },
  {
   "cell_type": "markdown",
   "metadata": {},
   "source": [
    "Question: does the contration with one image give a probability of the image? Why?"
   ]
  },
  {
   "cell_type": "markdown",
   "metadata": {},
   "source": [
    "Canonicalization using QR decompositions"
   ]
  },
  {
   "cell_type": "code",
   "execution_count": 26,
   "metadata": {
    "collapsed": true
   },
   "outputs": [],
   "source": [
    "def orthogonalize(site,going_right):\n",
    "    dl=bond_dims[site-1] # left bond dimension\n",
    "    d=bond_dims[site]   # current bond dimension\n",
    "    if(going_right):\n",
    "        A=tensors[site].view(dl*2,d) # A is a matrix unfolded from the current tensor\n",
    "        Q,R=torch.qr(A)\n",
    "        R/=R.norm() # devided by norm \n",
    "        tensors[site] = Q.contiguous().view(dl,2,-1)\n",
    "        tensors[site+1] = (R@tensors[site+1].view(d,-1)).view(-1,2,bond_dims[site+1])\n",
    "        bond_dims[site] = Q.shape[1] # economy QR, so the right dimension could be either dl or d\n",
    "    else: # going left\n",
    "        A=tensors[site].view(dl,d*2).t()\n",
    "        Q,R=torch.qr(A)\n",
    "        R/=R.norm() \n",
    "        tensors[site]=Q.t().contiguous().view(-1,2,d)\n",
    "        tensors[site-1] = (tensors[site-1].view(-1,dl)@R.t()).view(bond_dims[site-2],2,-1)\n",
    "        bond_dims[site-1] = Q.shape[1]\n"
   ]
  },
  {
   "cell_type": "markdown",
   "metadata": {},
   "source": [
    "### MPS left canonicalization\n",
    "Canonicalization gives several advantages.  \n",
    "First, it make the partition function of the model equals to $1$.  \n",
    "Second, the isometries have condition number $1$, preserving very well the computation precisions.\n",
    "<img src=\"mps_left.png\" width=\"350px\"/>"
   ]
  },
  {
   "cell_type": "code",
   "execution_count": 27,
   "metadata": {
    "collapsed": true
   },
   "outputs": [],
   "source": [
    "for site in range(n-1):\n",
    "    orthogonalize(site,True)     "
   ]
  },
  {
   "cell_type": "code",
   "execution_count": 28,
   "metadata": {},
   "outputs": [
    {
     "data": {
      "text/plain": [
       "torch.Size([30, 2, 1])"
      ]
     },
     "execution_count": 28,
     "metadata": {},
     "output_type": "execute_result"
    }
   ],
   "source": [
    "tensors[783].shape"
   ]
  },
  {
   "cell_type": "markdown",
   "metadata": {},
   "source": [
    "Canonicalization changes the bond dimensions, to see it"
   ]
  },
  {
   "cell_type": "code",
   "execution_count": 10,
   "metadata": {
    "scrolled": true
   },
   "outputs": [
    {
     "name": "stdout",
     "output_type": "stream",
     "text": [
      "[2, 4, 8, 16, 30, 30, 30, 30, 30, 30, 30, 30, 30, 30, 30, 30, 30, 30, 30, 30, 30, 30, 30, 30, 30, 30, 30, 30, 30, 30, 30, 30, 30, 30, 30, 30, 30, 30, 30, 30, 30, 30, 30, 30, 30, 30, 30, 30, 30, 30, 30, 30, 30, 30, 30, 30, 30, 30, 30, 30, 30, 30, 30, 30, 30, 30, 30, 30, 30, 30, 30, 30, 30, 30, 30, 30, 30, 30, 30, 30, 30, 30, 30, 30, 30, 30, 30, 30, 30, 30, 30, 30, 30, 30, 30, 30, 30, 30, 30, 30, 30, 30, 30, 30, 30, 30, 30, 30, 30, 30, 30, 30, 30, 30, 30, 30, 30, 30, 30, 30, 30, 30, 30, 30, 30, 30, 30, 30, 30, 30, 30, 30, 30, 30, 30, 30, 30, 30, 30, 30, 30, 30, 30, 30, 30, 30, 30, 30, 30, 30, 30, 30, 30, 30, 30, 30, 30, 30, 30, 30, 30, 30, 30, 30, 30, 30, 30, 30, 30, 30, 30, 30, 30, 30, 30, 30, 30, 30, 30, 30, 30, 30, 30, 30, 30, 30, 30, 30, 30, 30, 30, 30, 30, 30, 30, 30, 30, 30, 30, 30, 30, 30, 30, 30, 30, 30, 30, 30, 30, 30, 30, 30, 30, 30, 30, 30, 30, 30, 30, 30, 30, 30, 30, 30, 30, 30, 30, 30, 30, 30, 30, 30, 30, 30, 30, 30, 30, 30, 30, 30, 30, 30, 30, 30, 30, 30, 30, 30, 30, 30, 30, 30, 30, 30, 30, 30, 30, 30, 30, 30, 30, 30, 30, 30, 30, 30, 30, 30, 30, 30, 30, 30, 30, 30, 30, 30, 30, 30, 30, 30, 30, 30, 30, 30, 30, 30, 30, 30, 30, 30, 30, 30, 30, 30, 30, 30, 30, 30, 30, 30, 30, 30, 30, 30, 30, 30, 30, 30, 30, 30, 30, 30, 30, 30, 30, 30, 30, 30, 30, 30, 30, 30, 30, 30, 30, 30, 30, 30, 30, 30, 30, 30, 30, 30, 30, 30, 30, 30, 30, 30, 30, 30, 30, 30, 30, 30, 30, 30, 30, 30, 30, 30, 30, 30, 30, 30, 30, 30, 30, 30, 30, 30, 30, 30, 30, 30, 30, 30, 30, 30, 30, 30, 30, 30, 30, 30, 30, 30, 30, 30, 30, 30, 30, 30, 30, 30, 30, 30, 30, 30, 30, 30, 30, 30, 30, 30, 30, 30, 30, 30, 30, 30, 30, 30, 30, 30, 30, 30, 30, 30, 30, 30, 30, 30, 30, 30, 30, 30, 30, 30, 30, 30, 30, 30, 30, 30, 30, 30, 30, 30, 30, 30, 30, 30, 30, 30, 30, 30, 30, 30, 30, 30, 30, 30, 30, 30, 30, 30, 30, 30, 30, 30, 30, 30, 30, 30, 30, 30, 30, 30, 30, 30, 30, 30, 30, 30, 30, 30, 30, 30, 30, 30, 30, 30, 30, 30, 30, 30, 30, 30, 30, 30, 30, 30, 30, 30, 30, 30, 30, 30, 30, 30, 30, 30, 30, 30, 30, 30, 30, 30, 30, 30, 30, 30, 30, 30, 30, 30, 30, 30, 30, 30, 30, 30, 30, 30, 30, 30, 30, 30, 30, 30, 30, 30, 30, 30, 30, 30, 30, 30, 30, 30, 30, 30, 30, 30, 30, 30, 30, 30, 30, 30, 30, 30, 30, 30, 30, 30, 30, 30, 30, 30, 30, 30, 30, 30, 30, 30, 30, 30, 30, 30, 30, 30, 30, 30, 30, 30, 30, 30, 30, 30, 30, 30, 30, 30, 30, 30, 30, 30, 30, 30, 30, 30, 30, 30, 30, 30, 30, 30, 30, 30, 30, 30, 30, 30, 30, 30, 30, 30, 30, 30, 30, 30, 30, 30, 30, 30, 30, 30, 30, 30, 30, 30, 30, 30, 30, 30, 30, 30, 30, 30, 30, 30, 30, 30, 30, 30, 30, 30, 30, 30, 30, 30, 30, 30, 30, 30, 30, 30, 30, 30, 30, 30, 30, 30, 30, 30, 30, 30, 30, 30, 30, 30, 30, 30, 30, 30, 30, 30, 30, 30, 30, 30, 30, 30, 30, 30, 30, 30, 30, 30, 30, 30, 30, 30, 30, 30, 30, 30, 30, 30, 30, 30, 30, 30, 30, 30, 30, 30, 30, 30, 30, 30, 30, 30, 30, 30, 30, 30, 30, 30, 30, 30, 30, 30, 30, 30, 30, 30, 30, 30, 30, 30, 30, 30, 30, 30, 30, 30, 30, 30, 30, 30, 30, 30, 30, 30, 30, 30, 30, 30, 30, 30, 30, 30, 30, 30, 30, 30, 30, 30, 30, 30, 30, 30, 30, 30, 30, 30, 30, 30, 30, 30, 30, 30, 30, 30, 30, 30, 30, 30, 30, 30, 30, 30, 30, 30, 30, 30, 30, 30, 30, 30, 30, 30, 30, 30, 30, 30, 30, 30, 30, 1]\n"
     ]
    }
   ],
   "source": [
    "print(bond_dims)"
   ]
  },
  {
   "cell_type": "markdown",
   "metadata": {},
   "source": [
    "Now contracting mps with one image gives the probability amplitude of the image."
   ]
  },
  {
   "cell_type": "code",
   "execution_count": 29,
   "metadata": {
    "collapsed": true
   },
   "outputs": [],
   "source": [
    "def get_psi():\n",
    "    psi=torch.ones([m,1,1])\n",
    "    for site in range(n):\n",
    "        psi = psi @ tensors[site][:,data[:,site],:].permute(1,0,2)\n",
    "    return(psi)"
   ]
  },
  {
   "cell_type": "code",
   "execution_count": 30,
   "metadata": {
    "collapsed": true
   },
   "outputs": [],
   "source": [
    "def gen_samples(ns):\n",
    "    samples=np.zeros([ns,n])\n",
    "    for site in range(n-1):# left canonicalize\n",
    "        orthogonalize(site,True) \n",
    "    for s in range(ns):\n",
    "        vec=torch.ones(1,1)\n",
    "        for site in range(n-1,-1,-1):\n",
    "            vec = (tensors[site].view(-1,bond_dims[site])@vec).view(-1,2)\n",
    "            p0 = vec[:,0].norm()**2/ (vec.norm()**2)\n",
    "            x = (0 if np.random.rand() < p0 else 1)\n",
    "            vec = vec[:,x]\n",
    "            samples[s][site]=x\n",
    "    return samples"
   ]
  },
  {
   "cell_type": "markdown",
   "metadata": {},
   "source": [
    "### Initialize cache for MPS\n",
    "Computing probability of a image consists of contracting bonds from the first tensor to the last tensor. Lots of computation results can be re-used in the future computations, so we would like to store the contraction results in the cache.\n",
    "Notice that the cache is for all images."
   ]
  },
  {
   "cell_type": "code",
   "execution_count": 31,
   "metadata": {
    "collapsed": true
   },
   "outputs": [],
   "source": [
    "cache=[] \n",
    "cache.append( torch.ones([m,1,1])) # The initial elements, all images have cache 1\n",
    "for site in range(n-1):\n",
    "    B=cache[site] @ tensors[site][:,data[:,site],:].permute(1,0,2)\n",
    "    B /= B.abs().max()\n",
    "    cache.append(  B  ) # batched matrix multiplications\n",
    "cache.append( torch.ones(m,1,1)) # the last element, matrix [1,1] for all images"
   ]
  },
  {
   "cell_type": "markdown",
   "metadata": {},
   "source": [
    "Length of the case is $n+1$. In the caceh, for an image, each pixel has a correponding vector, denoting the temporary results in tensor contractions (from left to right or from right to left).\n",
    "Let us look at the content of cache for image alpha=1:"
   ]
  },
  {
   "cell_type": "code",
   "execution_count": 14,
   "metadata": {
    "scrolled": false
   },
   "outputs": [
    {
     "name": "stdout",
     "output_type": "stream",
     "text": [
      "cache site 1  tensor([[ 1.]])\n",
      "cache site 2  tensor([[-1.0000, -0.5231]])\n",
      "cache site 3  tensor([[ 0.6791,  0.3302, -0.6933,  1.0000]])\n",
      "cache site 4  tensor([[-0.6459,  0.2046, -1.0000, -0.5822, -0.5152,  0.2265,  0.3331,\n",
      "         -0.2325]])\n",
      "cache site 5  tensor([[-0.5622,  0.1972,  0.3345, -0.3117, -0.0213,  0.0545,  0.3118,\n",
      "         -0.2166,  1.0000, -0.1798, -0.4201, -0.0843, -0.0838,  0.5389,\n",
      "          0.0963,  0.2421]])\n",
      "cache site 6  tensor([[-0.5622,  0.1972,  0.3345, -0.3117, -0.0213,  0.0545,  0.3118,\n",
      "         -0.2166,  1.0000, -0.1798, -0.4201, -0.0843, -0.0838,  0.5389,\n",
      "          0.0963,  0.2421]])\n"
     ]
    }
   ],
   "source": [
    "alpha=1 # the image 1\n",
    "print(\"cache site 1 \",cache[0][alpha])\n",
    "print(\"cache site 2 \",cache[1][alpha])\n",
    "print(\"cache site 3 \",cache[2][alpha])"
   ]
  },
  {
   "cell_type": "markdown",
   "metadata": {},
   "source": [
    "Then the probability amplitude $\\psi$ for images can be obtained by"
   ]
  },
  {
   "cell_type": "code",
   "execution_count": 32,
   "metadata": {
    "collapsed": true
   },
   "outputs": [],
   "source": [
    "psi=get_psi()"
   ]
  },
  {
   "cell_type": "markdown",
   "metadata": {},
   "source": [
    "Let us output the probablity for an image, which equals $|\\psi|^2$ "
   ]
  },
  {
   "cell_type": "code",
   "execution_count": 33,
   "metadata": {
    "scrolled": true
   },
   "outputs": [
    {
     "name": "stdout",
     "output_type": "stream",
     "text": [
      "Probability of generating image 3 = 0.00000\n"
     ]
    }
   ],
   "source": [
    "print(\"Probability of generating image 3 = %.5f\"%(psi*psi)[3])"
   ]
  },
  {
   "cell_type": "code",
   "execution_count": 17,
   "metadata": {},
   "outputs": [
    {
     "data": {
      "image/png": "[encoded data removed]",
      "text/plain": [
       "<matplotlib.figure.Figure at 0x111f29240>"
      ]
     },
     "metadata": {},
     "output_type": "display_data"
    }
   ],
   "source": [
    "ax=plt.bar(range(1,psi.shape[0]+1),psi**2)"
   ]
  },
  {
   "cell_type": "markdown",
   "metadata": {},
   "source": [
    "**Hey, the probability is $0$, what is wrong?**  \n",
    "\n",
    "Because the space is too large and the model is randomly initialized!\n",
    "\n",
    "Actually the purpose of training is exactly to increase the probability (or equivalently, log probability) of given images. This is the so-called *maximum likelihood learning*\n",
    "\n",
    "The basic procedure is sweeping back and force, from right to left, then from left to right. During each sweep, the visited tensor is updated according to the *gradients* of the log-probability with respect to tensor elements."
   ]
  },
  {
   "cell_type": "markdown",
   "metadata": {},
   "source": [
    "## Training MPS\n",
    "<img src=\"training.png\" width=\"350px\"/>"
   ]
  },
  {
   "cell_type": "code",
   "execution_count": 38,
   "metadata": {
    "scrolled": false
   },
   "outputs": [
    {
     "name": "stdout",
     "output_type": "stream",
     "text": [
      " Epoch #0, site #783 / 784           NLL=3.002, LowerBound=2.996   generating samples..."
     ]
    },
    {
     "data": {
      "image/png": "[encoded data removed]",
      "text/plain": [
       "<matplotlib.figure.Figure at 0x111b0b160>"
      ]
     },
     "metadata": {},
     "output_type": "display_data"
    },
    {
     "data": {
      "image/png": "[encoded data removed]",
      "text/plain": [
       "<matplotlib.figure.Figure at 0x112303780>"
      ]
     },
     "metadata": {},
     "output_type": "display_data"
    },
    {
     "name": "stdout",
     "output_type": "stream",
     "text": [
      "Press Enter to continue  \n",
      " Epoch #1, site #783 / 784           NLL=3.000, LowerBound=2.996   generating samples..."
     ]
    },
    {
     "data": {
      "image/png": "[encoded data removed]",
      "text/plain": [
       "<matplotlib.figure.Figure at 0x112305f60>"
      ]
     },
     "metadata": {},
     "output_type": "display_data"
    },
    {
     "data": {
      "image/png": "[encoded data removed]",
      "text/plain": [
       "<matplotlib.figure.Figure at 0x112bb1da0>"
      ]
     },
     "metadata": {},
     "output_type": "display_data"
    },
    {
     "name": "stdout",
     "output_type": "stream",
     "text": [
      "Press Enter to continue  \n",
      " Epoch #2, site #783 / 784           NLL=3.000, LowerBound=2.996   generating samples..."
     ]
    },
    {
     "data": {
      "image/png": "[encoded data removed]",
      "text/plain": [
       "<matplotlib.figure.Figure at 0x102a5b0b8>"
      ]
     },
     "metadata": {},
     "output_type": "display_data"
    },
    {
     "data": {
      "image/png": "[encoded data removed]",
      "text/plain": [
       "<matplotlib.figure.Figure at 0x112438ef0>"
      ]
     },
     "metadata": {},
     "output_type": "display_data"
    },
    {
     "name": "stdout",
     "output_type": "stream",
     "text": [
      "Press Enter to continue  \n",
      " Epoch #3, site #783 / 784           NLL=2.998, LowerBound=2.996   generating samples..."
     ]
    },
    {
     "data": {
      "image/png": "[encoded data removed]",
      "text/plain": [
       "<matplotlib.figure.Figure at 0x111a21e80>"
      ]
     },
     "metadata": {},
     "output_type": "display_data"
    },
    {
     "data": {
      "image/png": "[encoded data removed]",
      "text/plain": [
       "<matplotlib.figure.Figure at 0x11286e588>"
      ]
     },
     "metadata": {},
     "output_type": "display_data"
    },
    {
     "name": "stdout",
     "output_type": "stream",
     "text": [
      "Press Enter to continue  \n",
      " Epoch #4, site #783 / 784           NLL=3.002, LowerBound=2.996   generating samples..."
     ]
    },
    {
     "data": {
      "image/png": "[encoded data removed]",
      "text/plain": [
       "<matplotlib.figure.Figure at 0x11287f5f8>"
      ]
     },
     "metadata": {},
     "output_type": "display_data"
    },
    {
     "data": {
      "image/png": "[encoded data removed]",
      "text/plain": [
       "<matplotlib.figure.Figure at 0x11247b9e8>"
      ]
     },
     "metadata": {},
     "output_type": "display_data"
    },
    {
     "name": "stdout",
     "output_type": "stream",
     "text": [
      "Press Enter to continue  \n",
      " Epoch #5, site #783 / 784           NLL=3.000, LowerBound=2.996   generating samples..."
     ]
    },
    {
     "data": {
      "image/png": "[encoded data removed]",
      "text/plain": [
       "<matplotlib.figure.Figure at 0x111e73198>"
      ]
     },
     "metadata": {},
     "output_type": "display_data"
    },
    {
     "data": {
      "image/png": "[encoded data removed]",
      "text/plain": [
       "<matplotlib.figure.Figure at 0x11204b898>"
      ]
     },
     "metadata": {},
     "output_type": "display_data"
    },
    {
     "name": "stdout",
     "output_type": "stream",
     "text": [
      "Press Enter to continue  \n",
      " Epoch #6, site #783 / 784           NLL=3.000, LowerBound=2.996   generating samples..."
     ]
    },
    {
     "data": {
      "image/png": "[encoded data removed]",
      "text/plain": [
       "<matplotlib.figure.Figure at 0x11204b908>"
      ]
     },
     "metadata": {},
     "output_type": "display_data"
    },
    {
     "data": {
      "image/png": "[encoded data removed]",
      "text/plain": [
       "<matplotlib.figure.Figure at 0x111b13f60>"
      ]
     },
     "metadata": {},
     "output_type": "display_data"
    },
    {
     "name": "stdout",
     "output_type": "stream",
     "text": [
      "Press Enter to continue  \n",
      " Epoch #7, site #783 / 784           NLL=3.000, LowerBound=2.996   generating samples..."
     ]
    },
    {
     "data": {
      "image/png": "[encoded data removed]",
      "text/plain": [
       "<matplotlib.figure.Figure at 0x111b4add8>"
      ]
     },
     "metadata": {},
     "output_type": "display_data"
    },
    {
     "data": {
      "image/png": "[encoded data removed]",
      "text/plain": [
       "<matplotlib.figure.Figure at 0x112d77da0>"
      ]
     },
     "metadata": {},
     "output_type": "display_data"
    },
    {
     "name": "stdout",
     "output_type": "stream",
     "text": [
      "Press Enter to continue  \n",
      " Epoch #8, site #783 / 784           NLL=2.999, LowerBound=2.996   generating samples..."
     ]
    },
    {
     "data": {
      "image/png": "[encoded data removed]",
      "text/plain": [
       "<matplotlib.figure.Figure at 0x1123d5710>"
      ]
     },
     "metadata": {},
     "output_type": "display_data"
    },
    {
     "data": {
      "image/png": "[encoded data removed]",
      "text/plain": [
       "<matplotlib.figure.Figure at 0x102a46940>"
      ]
     },
     "metadata": {},
     "output_type": "display_data"
    }
   ],
   "source": [
    "learning_rate=0.08\n",
    "for epoch in range(9):    # one sweep, from right to left, then from left to right\n",
    "    going_right=False\n",
    "    for site in [i for i in range(n-1,0,-1)]+[i for i in range(n-1)]:\n",
    "        # to update tensors[site] which is a 3-way tensor of size [dl,2,dr]\n",
    "        sys.stdout.write(\"\\r Epoch #%d, site #%d / %d           \"%(epoch, site+1,n)); sys.stdout.flush()\n",
    "        if(site==0): going_right=True\n",
    "        gradients = torch.zeros_like(tensors[site])\n",
    "        for i in [0,1]: # the pixel could be either 0 or 1\n",
    "            idx=(data[:,site]==i).nonzero().type(torch.LongTensor).squeeze() # this returns indices of non-zero elements\n",
    "            if(idx.numel()==0): continue\n",
    "            left_vec = cache[site][idx,:,:] # a vector on the left of the site\n",
    "            right_vec = cache[site+1][idx,:,:] # a vector on the right of the site\n",
    "            A=tensors[site][:,data[idx,site],:]\n",
    "            if(idx.numel()==1): \n",
    "                A=A.view(A.shape[0],1,A.shape[1])\n",
    "                left_vec=left_vec.view(1,left_vec.shape[0],left_vec.shape[1])\n",
    "                right_vec=right_vec.view(1,right_vec.shape[0],right_vec.shape[1])\n",
    "            psi = left_vec @ A.permute(1,0,2) @right_vec # probability amplitude\n",
    "            gradients[:,i,:] = torch.sum(left_vec.permute(0,2,1) @ right_vec.permute(0,2,1) / psi,0) \n",
    "        gradients = 2.0*(gradients/m-tensors[site])  \n",
    "        tensors[site] += learning_rate * gradients/gradients.norm()\n",
    "        orthogonalize(site,going_right)\n",
    "        if(going_right):\n",
    "            cache[site+1] = cache[site] @ tensors[site][:,data[:,site],:].permute(1,0,2)\n",
    "            cache[site+1] /= cache[site+1].abs().max()\n",
    "        else:\n",
    "            cache[site] = tensors[site][:,data[:,site],:].permute(1,0,2) @ cache[site+1]\n",
    "            cache[site] /= cache[site].abs().max()\n",
    "    psi=get_psi()\n",
    "    tensors_bak=tensors.copy()\n",
    "    sys.stdout.write(\"NLL=%.3f, LowerBound=%.3f \"%(-torch.mean(torch.log(psi*psi)),math.log(m)))\n",
    "    sys.stdout.write(\"  generating samples...\")\n",
    "    ax=plt.bar(range(1,psi.shape[0]+1),psi**2)\n",
    "    imgs=gen_samples(30)\n",
    "    show_imgs(imgs,2,15,15,2)\n",
    "    tensors=tensors_bak.copy()\n",
    "    if(epoch < 8):\n",
    "        input(\"Press Enter to continue  \")\n"
   ]
  },
  {
   "cell_type": "code",
   "execution_count": null,
   "metadata": {
    "collapsed": true
   },
   "outputs": [],
   "source": []
  },
  {
   "cell_type": "markdown",
   "metadata": {},
   "source": [
    "### References for further reading:\n",
    "* Ulrich Schollwock, “The density-matrix renormalization group in the age of matrix product states,” Annals of Physics 326, 96– 192 (2011).\n",
    "* E. Miles Stoudenmire and David J. Schwab, “Supervised Learning with Quantum-Inspired Tensor Networks,” Advances in Neural Information Processing Systems 29, 4799 (2016), arXiv:1605.05775.\n",
    "* Alexander Novikov, Mikhail Trofimov, and Ivan Oseledets, “Exponential machines,” arXiv:1605.05775 (2016).\n",
    "* Ivan V Oseledets, “Tensor-train decomposition,” SIAM Journal on Scientific Computing 33, 2295–2317 (2011).\n",
    "* Edwin Miles Stoudenmire, “Learning relevant features of data with multi-scale tensor networks,” Quantum Science and Technology (2018)."
   ]
  },
  {
   "cell_type": "code",
   "execution_count": null,
   "metadata": {
    "collapsed": true
   },
   "outputs": [],
   "source": []
  }
 ],
 "metadata": {
  "kernelspec": {
   "display_name": "Python 3",
   "language": "python",
   "name": "python3"
  },
  "language_info": {
   "codemirror_mode": {
    "name": "ipython",
    "version": 3
   },
   "file_extension": ".py",
   "mimetype": "text/x-python",
   "name": "python",
   "nbconvert_exporter": "python",
   "pygments_lexer": "ipython3",
   "version": "3.6.2"
  }
 },
 "nbformat": 4,
 "nbformat_minor": 2
}
