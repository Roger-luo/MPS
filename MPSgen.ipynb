{
 "cells": [
  {
   "cell_type": "markdown",
   "metadata": {},
   "source": [
    "# Matrix Product State"
   ]
  },
  {
   "cell_type": "markdown",
   "metadata": {},
   "source": [
    "We will use two package in this tutorial:\n",
    "\n",
    "\n",
    "- `Images`: for visualizing images\n",
    "- `MNIST`: for loading MNIST dataset\n",
    "- `GR`: for plotting\n",
    "\n",
    "original `MNIST` is deprecated, to save time, please this custom version:\n",
    "\n",
    "```julia\n",
    "Pkg.clone(\"https://github.com/Roger-luo/MNIST.jl.git\")\n",
    "```\n",
    "\n",
    "And add other packages with the following commnad\n",
    "\n",
    "```julia\n",
    "Pkg.add(\"GR\")\n",
    "Pkg.add(\"Colors\")\n",
    "```"
   ]
  },
  {
   "cell_type": "code",
   "execution_count": 1,
   "metadata": {},
   "outputs": [],
   "source": [
    "using Images, MNIST, GR"
   ]
  },
  {
   "cell_type": "markdown",
   "metadata": {},
   "source": [
    "load training data from mnist"
   ]
  },
  {
   "cell_type": "code",
   "execution_count": 2,
   "metadata": {},
   "outputs": [],
   "source": [
    "images, labels = traindata();"
   ]
  },
  {
   "cell_type": "markdown",
   "metadata": {},
   "source": [
    "### Data loading\n",
    "We load $100$ MNIST images by slicing the MNIST trainning data.  \n",
    "Each image contains $n=28\\times 28=784$ pixels, each of which takes value $0$ or $1$.  \n",
    "In our settings, each image is viewed as a product state in the Hilbert space of  dimension $2^n$.\n",
    "\n",
    "Gray images can be just an array of `Gray` pixels in julia."
   ]
  },
  {
   "cell_type": "code",
   "execution_count": 3,
   "metadata": {},
   "outputs": [
    {
     "data": {
      "text/html": [
       "<table><tbody><tr><td style='text-align:center;vertical-align:middle; margin: 0.5em;border:1px #90999f solid;border-collapse:collapse'><img style='max-width: 100px; max-height:100px;display:inline' src=\"data:image/png;base64,iVBORw0KGgoAAAANSUhEUgAAAHAAAABwAQAAAADum8nmAAAABGdBTUEAALGPC/xhBQAAAAJiS0dEAAHdihOkAAAAKElEQVQ4y2NgGAUkgv8fKOD+H+XSg8s/yiWB+2FAuJRlpFEu0dyhBADnrIr9tBzlRQAAAABJRU5ErkJg\"></td><td style='text-align:center;vertical-align:middle; margin: 0.5em;border:1px #90999f solid;border-collapse:collapse'><img style='max-width: 100px; max-height:100px;display:inline' src=\"data:image/png;base64,iVBORw0KGgoAAAANSUhEUgAAAHAAAABwAQAAAADum8nmAAAABGdBTUEAALGPC/xhBQAAAAJiS0dEAAHdihOkAAAAWUlEQVQ4y+3TsQ0AIQwDQG/A/ltmA/9HoiAdtlssCo4CIeEAL1oWSZMtn/Uvj72NSJPwiZArYPiM80QhOb78ntwpnZzXyjxqprG64HDJ2VCBc6okBpP/cpkPd2cuaLPvyaIAAAAASUVORK5C\"></td><td style='text-align:center;vertical-align:middle; margin: 0.5em;border:1px #90999f solid;border-collapse:collapse'><img style='max-width: 100px; max-height:100px;display:inline' src=\"data:image/png;base64,iVBORw0KGgoAAAANSUhEUgAAAHAAAABwAQAAAADum8nmAAAABGdBTUEAALGPC/xhBQAAAAJiS0dEAAHdihOkAAAATUlEQVQ4y+3SMQoAMAgDQH+Q///SH6S0ndxqhEqh2W4Ropq9G7BCl8kegqHCNVInZHLlPuepVe5xOmv/3EF906BO1uixQIZhEyn+nGUACngMMJa/ugYAAAAASUVORK5C\"></td><td style='text-align:center;vertical-align:middle; margin: 0.5em;border:1px #90999f solid;border-collapse:collapse'><img style='max-width: 100px; max-height:100px;display:inline' src=\"data:image/png;base64,iVBORw0KGgoAAAANSUhEUgAAAHAAAABwAQAAAADum8nmAAAABGdBTUEAALGPC/xhBQAAAAJiS0dEAAHdihOkAAAAU0lEQVQ4y+3SuQ3AMAxDUW/A/bf0Bj+2qySdSARqwu41gq4xeiOmS5Hw1UWBJJw2k5a7GIzbxfNjcrkPjksFBLlcQ+ByV/K41n5XkWBTD9X45+tccY/dfUQOfz8AAAAASUVORK5C\"></td><td style='text-align:center;vertical-align:middle; margin: 0.5em;border:1px #90999f solid;border-collapse:collapse'><img style='max-width: 100px; max-height:100px;display:inline' src=\"data:image/png;base64,iVBORw0KGgoAAAANSUhEUgAAAHAAAABwAQAAAADum8nmAAAABGdBTUEAALGPC/xhBQAAAAJiS0dEAAHdihOkAAAALElEQVQ4y2NgGAWkgv8fyOby//8/BLkfRrlEcv9TxGUY5Y5ysXM/kM8dUgAAQtejXdZCSG4AAAAASUVORK5C\"></td><td style='text-align:center;vertical-align:middle; margin: 0.5em;border:1px #90999f solid;border-collapse:collapse'><img style='max-width: 100px; max-height:100px;display:inline' src=\"data:image/png;base64,iVBORw0KGgoAAAANSUhEUgAAAHAAAABwAQAAAADum8nmAAAABGdBTUEAALGPC/xhBQAAAAJiS0dEAAHdihOkAAAAR0lEQVQ4y2NgGAWkgf//P5DL5aeM+598Lv8Q5KL4n25cYJShhB1JXJAA+Vx+CrgMqOlulIuTCwx0Crj/B4QLSqQM5HKHFAAAVgDfIZViOUMAAAAASUVORK5C\"></td><td style='text-align:center;vertical-align:middle; margin: 0.5em;border:1px #90999f solid;border-collapse:collapse'><img style='max-width: 100px; max-height:100px;display:inline' src=\"data:image/png;base64,iVBORw0KGgoAAAANSUhEUgAAAHAAAABwAQAAAADum8nmAAAABGdBTUEAALGPC/xhBQAAAAJiS0dEAAHdihOkAAAAXklEQVQ4y+3Tuw0AIQwDUG+Q/bfMBuEjQKIjdoGQcMVrkDn5gJ9cLIJlVY0LDIrBc9w0e6TpAlsXhqP+fEOW4AmVdolkZxeofOd2Mop9Zvtyjol93jkq//5aKcWnUgDlqrKYZbUthwAAAABJRU5ErkJg\"></td><td style='text-align:center;vertical-align:middle; margin: 0.5em;border:1px #90999f solid;border-collapse:collapse'><img style='max-width: 100px; max-height:100px;display:inline' src=\"data:image/png;base64,iVBORw0KGgoAAAANSUhEUgAAAHAAAABwAQAAAADum8nmAAAABGdBTUEAALGPC/xhBQAAAAJiS0dEAAHdihOkAAAAXElEQVQ4y+3SQQrAIBADwPwg//+lP0jrllKklyYeRGhOjofFLAJ/zKgBVER2agURs059nE9e7SNqivedTWpob7K92n9lDWHM8yUpK1jB4d8YZHXI+Kw+JbbjTjkAxlk7EJmQ7BEAAAAASUVORK5C\"></td></tr><tr><td style='text-align:center;vertical-align:middle; margin: 0.5em;border:1px #90999f solid;border-collapse:collapse'><img style='max-width: 100px; max-height:100px;display:inline' src=\"data:image/png;base64,iVBORw0KGgoAAAANSUhEUgAAAHAAAABwAQAAAADum8nmAAAABGdBTUEAALGPC/xhBQAAAAJiS0dEAAHdihOkAAAAVklEQVQ4y+XTsQ3AQAgDQG/A/lv+Bo5TRShNsKV88a64zkgAnBv6rIBMuDxqrIiwSZOqUC41thYD1qvFZ6qBsgLCItk8473AU2NG+EQ7sT+54/1SnpMLq60KFAD+lr0AAAAASUVORK5C\"></td><td style='text-align:center;vertical-align:middle; margin: 0.5em;border:1px #90999f solid;border-collapse:collapse'><img style='max-width: 100px; max-height:100px;display:inline' src=\"data:image/png;base64,iVBORw0KGgoAAAANSUhEUgAAAHAAAABwAQAAAADum8nmAAAABGdBTUEAALGPC/xhBQAAAAJiS0dEAAHdihOkAAAAS0lEQVQ4y+3RMQ4AIAgDwP6g//8lP0CNC46URGJiJ24rKfCTD91E0l3kQo2QOG/qRHwoydgiTxOpL7QJkaeu0XvIEllgz7pFQuVrGTdqNIAnDFoVAAAAAElFTkSuQmCC\"></td><td style='text-align:center;vertical-align:middle; margin: 0.5em;border:1px #90999f solid;border-collapse:collapse'><img style='max-width: 100px; max-height:100px;display:inline' src=\"data:image/png;base64,iVBORw0KGgoAAAANSUhEUgAAAHAAAABwAQAAAADum8nmAAAABGdBTUEAALGPC/xhBQAAAAJiS0dEAAHdihOkAAAAZElEQVQ4y+XTQQoAIQgF0H8D739Lb/ADp2iaNvmF2eQieAtNPghcWSRdozFKYdcY9if9eRQ6VI5VIJI6jdsWp7R90ikLrZ/YUqxkXPgWMWmGl2FsMW8jTYpEhbYoR7zuMc2LqgF5HLfAgJC7AwAAAABJRU5ErkJg\"></td><td style='text-align:center;vertical-align:middle; margin: 0.5em;border:1px #90999f solid;border-collapse:collapse'><img style='max-width: 100px; max-height:100px;display:inline' src=\"data:image/png;base64,iVBORw0KGgoAAAANSUhEUgAAAHAAAABwAQAAAADum8nmAAAABGdBTUEAALGPC/xhBQAAAAJiS0dEAAHdihOkAAAAS0lEQVQ4y+3RMQoAMAgDwPzA//+yP0jpmNEELIVmu0UNAj+vhOQyyROPFXEFlAqzhEckhD6wxdJJY1S1WNpnill5/4pLz43W+m3tbNur/3lwVzMPAAAAAElFTkSuQmCC\"></td><td style='text-align:center;vertical-align:middle; margin: 0.5em;border:1px #90999f solid;border-collapse:collapse'><img style='max-width: 100px; max-height:100px;display:inline' src=\"data:image/png;base64,iVBORw0KGgoAAAANSUhEUgAAAHAAAABwAQAAAADum8nmAAAABGdBTUEAALGPC/xhBQAAAAJiS0dEAAHdihOkAAAAWUlEQVQ4y+XTMRbAIAwCUG7A/W/pDVLbqWwFhg4y+Zdo8iJwajgpZ2LOnYws+GilZEFoQxbjUUE78Eip5BFSyWNz71SkTuM79znmfoN+DI/VWq1/+JLHg3IBB/lCzNetnkoAAAAASUVORK5C\"></td><td style='text-align:center;vertical-align:middle; margin: 0.5em;border:1px #90999f solid;border-collapse:collapse'><img style='max-width: 100px; max-height:100px;display:inline' src=\"data:image/png;base64,iVBORw0KGgoAAAANSUhEUgAAAHAAAABwAQAAAADum8nmAAAABGdBTUEAALGPC/xhBQAAAAJiS0dEAAHdihOkAAAAVklEQVQ4y+3SuQ0AIAwDQG+Q/bfMBoBoeERju0BIuOIoAkoC/JApLSJLT9KMRNzg+AYkYqnE8VCJojGxNCi/2y9khkE8xnaae8dwW26FUGhtszXbx1IB0RJuoPoE8aYAAAAASUVORK5C\"></td><td style='text-align:center;vertical-align:middle; margin: 0.5em;border:1px #90999f solid;border-collapse:collapse'><img style='max-width: 100px; max-height:100px;display:inline' src=\"data:image/png;base64,iVBORw0KGgoAAAANSUhEUgAAAHAAAABwAQAAAADum8nmAAAABGdBTUEAALGPC/xhBQAAAAJiS0dEAAHdihOkAAAAVElEQVQ4y+3QMQ4AIAgDQH7A/3/JDyo6qRvFYEzsdgwEKvLzSgCwVKdxBGj6IuPZtwlHS1Gnh2JcyyjjqF1I+sCuUNcrQgRP3a8oYqqpDAO1HiSZBvUk6tmmNnrwAAAAAElFTkSuQmCC\"></td><td style='text-align:center;vertical-align:middle; margin: 0.5em;border:1px #90999f solid;border-collapse:collapse'><img style='max-width: 100px; max-height:100px;display:inline' src=\"data:image/png;base64,iVBORw0KGgoAAAANSUhEUgAAAHAAAABwAQAAAADum8nmAAAABGdBTUEAALGPC/xhBQAAAAJiS0dEAAHdihOkAAAARElEQVQ4y+3SwQkAMAhD0Wzg/lu6QYq99VYSqBT8t3cQQQSmnwqqDFJlSeMGU6G+1BktJhoIh2ghHWboPH/1Ga3DTVctjJnO9fvtMVEAAAAASUVORK5C\"></td></tr></tbody></table>"
      ],
      "text/plain": [
       "2×8 Array{Array{ColorTypes.Gray{Float64},2},2}:\n",
       " ColorTypes.Gray{Float64}[Gray{Float64}(0.0) Gray{Float64}(0.0) … Gray{Float64}(0.0) Gray{Float64}(0.0); Gray{Float64}(0.0) Gray{Float64}(0.0) … Gray{Float64}(0.0) Gray{Float64}(0.0); … ; Gray{Float64}(0.0) Gray{Float64}(0.0) … Gray{Float64}(0.0) Gray{Float64}(0.0); Gray{Float64}(0.0) Gray{Float64}(0.0) … Gray{Float64}(0.0) Gray{Float64}(0.0)]  …  ColorTypes.Gray{Float64}[Gray{Float64}(0.0) Gray{Float64}(0.0) … Gray{Float64}(0.0) Gray{Float64}(0.0); Gray{Float64}(0.0) Gray{Float64}(0.0) … Gray{Float64}(0.0) Gray{Float64}(0.0); … ; Gray{Float64}(0.0) Gray{Float64}(0.0) … Gray{Float64}(0.0) Gray{Float64}(0.0); Gray{Float64}(0.0) Gray{Float64}(0.0) … Gray{Float64}(0.0) Gray{Float64}(0.0)]\n",
       " ColorTypes.Gray{Float64}[Gray{Float64}(0.0) Gray{Float64}(0.0) … Gray{Float64}(0.0) Gray{Float64}(0.0); Gray{Float64}(0.0) Gray{Float64}(0.0) … Gray{Float64}(0.0) Gray{Float64}(0.0); … ; Gray{Float64}(0.0) Gray{Float64}(0.0) … Gray{Float64}(0.0) Gray{Float64}(0.0); Gray{Float64}(0.0) Gray{Float64}(0.0) … Gray{Float64}(0.0) Gray{Float64}(0.0)]     ColorTypes.Gray{Float64}[Gray{Float64}(0.0) Gray{Float64}(0.0) … Gray{Float64}(0.0) Gray{Float64}(0.0); Gray{Float64}(0.0) Gray{Float64}(0.0) … Gray{Float64}(0.0) Gray{Float64}(0.0); … ; Gray{Float64}(0.0) Gray{Float64}(0.0) … Gray{Float64}(0.0) Gray{Float64}(0.0); Gray{Float64}(0.0) Gray{Float64}(0.0) … Gray{Float64}(0.0) Gray{Float64}(0.0)]"
      ]
     },
     "execution_count": 3,
     "metadata": {},
     "output_type": "execute_result"
    }
   ],
   "source": [
    "data = reshape(images[:, 1:100], 28, 28, 100)\n",
    "ncols = 8\n",
    "[Gray.(data[:, :, i+j*ncols]) for i = 1:2, j=1:ncols]"
   ]
  },
  {
   "cell_type": "markdown",
   "metadata": {},
   "source": [
    "then convert them into binary images, you can convert an gray image to a binary image by set a threshold."
   ]
  },
  {
   "cell_type": "code",
   "execution_count": 4,
   "metadata": {},
   "outputs": [
    {
     "data": {
      "image/png": "[encoded data removed]",
      "text/plain": [
       "28×28 Array{Gray{Bool},2}:\n",
       " Gray{Bool}(false)  Gray{Bool}(false)  …  Gray{Bool}(false)\n",
       " Gray{Bool}(false)  Gray{Bool}(false)     Gray{Bool}(false)\n",
       " Gray{Bool}(false)  Gray{Bool}(false)     Gray{Bool}(false)\n",
       " Gray{Bool}(false)  Gray{Bool}(false)     Gray{Bool}(false)\n",
       " Gray{Bool}(false)  Gray{Bool}(false)     Gray{Bool}(false)\n",
       " Gray{Bool}(false)  Gray{Bool}(false)  …  Gray{Bool}(false)\n",
       " Gray{Bool}(false)  Gray{Bool}(false)     Gray{Bool}(false)\n",
       " Gray{Bool}(false)  Gray{Bool}(false)     Gray{Bool}(false)\n",
       " Gray{Bool}(false)  Gray{Bool}(false)     Gray{Bool}(false)\n",
       " Gray{Bool}(false)  Gray{Bool}(false)     Gray{Bool}(false)\n",
       " Gray{Bool}(false)  Gray{Bool}(false)  …  Gray{Bool}(false)\n",
       " Gray{Bool}(false)  Gray{Bool}(false)     Gray{Bool}(false)\n",
       " Gray{Bool}(false)  Gray{Bool}(false)     Gray{Bool}(false)\n",
       " ⋮                                     ⋱                   \n",
       " Gray{Bool}(false)  Gray{Bool}(false)     Gray{Bool}(false)\n",
       " Gray{Bool}(false)  Gray{Bool}(false)     Gray{Bool}(false)\n",
       " Gray{Bool}(false)  Gray{Bool}(false)     Gray{Bool}(false)\n",
       " Gray{Bool}(false)  Gray{Bool}(false)     Gray{Bool}(false)\n",
       " Gray{Bool}(false)  Gray{Bool}(false)  …  Gray{Bool}(false)\n",
       " Gray{Bool}(false)  Gray{Bool}(false)     Gray{Bool}(false)\n",
       " Gray{Bool}(false)  Gray{Bool}(false)     Gray{Bool}(false)\n",
       " Gray{Bool}(false)  Gray{Bool}(false)     Gray{Bool}(false)\n",
       " Gray{Bool}(false)  Gray{Bool}(false)     Gray{Bool}(false)\n",
       " Gray{Bool}(false)  Gray{Bool}(false)  …  Gray{Bool}(false)\n",
       " Gray{Bool}(false)  Gray{Bool}(false)     Gray{Bool}(false)\n",
       " Gray{Bool}(false)  Gray{Bool}(false)     Gray{Bool}(false)"
      ]
     },
     "execution_count": 4,
     "metadata": {},
     "output_type": "execute_result"
    }
   ],
   "source": [
    "img = Gray.(data[:, :, 1])\n",
    "img = Gray.(img .> 0.5)"
   ]
  },
  {
   "cell_type": "code",
   "execution_count": 5,
   "metadata": {},
   "outputs": [
    {
     "name": "stderr",
     "output_type": "stream",
     "text": [
      "WARNING: both GR and Images export \"axes\"; uses of it in module Main must be qualified\n",
      "WARNING: both GR and Images export \"colormap\"; uses of it in module Main must be qualified\n"
     ]
    }
   ],
   "source": [
    "bdata = zeros(Bool, 28, 28, 100)\n",
    "\n",
    "for i = 1:100\n",
    "    bdata[:, :, i] = Gray.(data[:, :, i]) .> 0.5\n",
    "end"
   ]
  },
  {
   "cell_type": "markdown",
   "metadata": {},
   "source": [
    "### MPS initialization\n",
    "Define the mps, which is a list of 3-way tensors containing random values \n",
    "<img src=\"mps.png\" width=\"350px\"/>"
   ]
  },
  {
   "cell_type": "code",
   "execution_count": 9,
   "metadata": {},
   "outputs": [],
   "source": [
    "n = 784 # number of qubits\n",
    "m = 20 # m images\n",
    "data = bdata[:, :, 1:m]\n",
    "data = reshape(data, 784, m)\n",
    "Dmax = 30 # maximum bond dimension\n",
    "bond_dims = [i==n?1:Dmax for i in 1:n]\n",
    "tensors = [randn(bond_dims[i], 2, bond_dims[i+1]) for i = 1:n-1];"
   ]
  },
  {
   "cell_type": "markdown",
   "metadata": {},
   "source": [
    "Question: does the contration with one image give a probability of the image? Why?"
   ]
  },
  {
   "cell_type": "markdown",
   "metadata": {},
   "source": [
    "Canonicalization using QR decompositions"
   ]
  },
  {
   "cell_type": "code",
   "execution_count": null,
   "metadata": {},
   "outputs": [],
   "source": [
    "function orthogonalize(site, going_right)\n",
    "    dl = bond_dims[site-1]\n",
    "    d = bond_dims[site]\n",
    "    if going_right\n",
    "        A = view(tensors[site], dl * 2, d)\n",
    "        Q, R = qr(A)\n",
    "        normalize!(R) # nomralize with 2-norm\n",
    "        tensors[site] = view(Q, dl, 2, :)\n",
    "        tensors[site+1] = view(R .* tensors[site + 1], d, -1)\n",
    "    end\n",
    "end"
   ]
  }
 ],
 "metadata": {
  "kernelspec": {
   "display_name": "Julia 0.6.3-pre",
   "language": "julia",
   "name": "julia-0.6"
  },
  "language_info": {
   "file_extension": ".jl",
   "mimetype": "application/julia",
   "name": "julia",
   "version": "0.6.3"
  }
 },
 "nbformat": 4,
 "nbformat_minor": 2
}
